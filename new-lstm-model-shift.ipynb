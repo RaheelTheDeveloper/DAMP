{
 "cells": [
  {
   "cell_type": "code",
   "execution_count": 161,
   "metadata": {},
   "outputs": [],
   "source": [
    "import os\n",
    "import pandas as pd\n",
    "import numpy as np\n",
    "import re\n",
    "import seaborn as sns\n",
    "import matplotlib.pyplot as plt\n",
    "from matplotlib import pyplot\n",
    "from scipy import stats\n",
    "import math\n",
    "from sklearn.metrics import mean_squared_error"
   ]
  },
  {
   "cell_type": "code",
   "execution_count": 162,
   "metadata": {},
   "outputs": [],
   "source": [
    "dataPath = 'Data/2016-2019(One station)/shair-8781-1-6-1.csv'\n",
    "airQualityData=pd.read_csv(dataPath, header=14,sep=';').rename(columns={'Start':'Start','Slut':'Stop'})\n",
    "airQualityData.rename(columns = lambda x: re.sub('NOX.*','NOX',x), inplace = True)\n",
    "airQualityData.rename(columns = lambda x: re.sub('PM10.*','PM10',x), inplace = True)\n",
    "airQualityData.rename(columns = lambda x: re.sub('PM2.5.*','PM2_5',x), inplace = True)\n",
    "airQualityData.rename(columns = lambda x: re.sub('NO2.*','NO2',x), inplace = True)\n",
    "airQualityData.rename(columns = lambda x: re.sub('O3.*','O3',x), inplace = True)\n",
    "airQualityData.rename(columns = lambda x: re.sub('Black Carbon.*','Black Carbon',x), inplace = True)\n",
    "airQualityData['Start'] = pd.to_datetime(airQualityData['Start'])\n",
    "airQualityData= airQualityData.drop('Stop',axis=1)\n",
    "one_feature=airQualityData.drop(columns=['Black Carbon','O3','PM2_5'])#\n",
    "one_feature.head(5)\n",
    "one_feature = one_feature.fillna(0)\n",
    "# one_feature = one_feature.dropna()"
   ]
  },
  {
   "cell_type": "code",
   "execution_count": 163,
   "metadata": {},
   "outputs": [
    {
     "data": {
      "text/html": [
       "<div>\n",
       "<style scoped>\n",
       "    .dataframe tbody tr th:only-of-type {\n",
       "        vertical-align: middle;\n",
       "    }\n",
       "\n",
       "    .dataframe tbody tr th {\n",
       "        vertical-align: top;\n",
       "    }\n",
       "\n",
       "    .dataframe thead th {\n",
       "        text-align: right;\n",
       "    }\n",
       "</style>\n",
       "<table border=\"1\" class=\"dataframe\">\n",
       "  <thead>\n",
       "    <tr style=\"text-align: right;\">\n",
       "      <th></th>\n",
       "      <th>Start</th>\n",
       "      <th>NO2</th>\n",
       "      <th>NOX</th>\n",
       "      <th>PM10</th>\n",
       "    </tr>\n",
       "  </thead>\n",
       "  <tbody>\n",
       "    <tr>\n",
       "      <th>0</th>\n",
       "      <td>2015-01-01 00:00:00</td>\n",
       "      <td>4.5</td>\n",
       "      <td>6.2</td>\n",
       "      <td>28.4</td>\n",
       "    </tr>\n",
       "    <tr>\n",
       "      <th>1</th>\n",
       "      <td>2015-01-01 01:00:00</td>\n",
       "      <td>3.1</td>\n",
       "      <td>3.7</td>\n",
       "      <td>8.5</td>\n",
       "    </tr>\n",
       "    <tr>\n",
       "      <th>2</th>\n",
       "      <td>2015-01-01 02:00:00</td>\n",
       "      <td>2.1</td>\n",
       "      <td>2.9</td>\n",
       "      <td>8.7</td>\n",
       "    </tr>\n",
       "    <tr>\n",
       "      <th>3</th>\n",
       "      <td>2015-01-01 03:00:00</td>\n",
       "      <td>1.6</td>\n",
       "      <td>2.2</td>\n",
       "      <td>10.5</td>\n",
       "    </tr>\n",
       "    <tr>\n",
       "      <th>4</th>\n",
       "      <td>2015-01-01 04:00:00</td>\n",
       "      <td>1.4</td>\n",
       "      <td>2.1</td>\n",
       "      <td>12.1</td>\n",
       "    </tr>\n",
       "    <tr>\n",
       "      <th>...</th>\n",
       "      <td>...</td>\n",
       "      <td>...</td>\n",
       "      <td>...</td>\n",
       "      <td>...</td>\n",
       "    </tr>\n",
       "    <tr>\n",
       "      <th>43819</th>\n",
       "      <td>2019-12-31 19:00:00</td>\n",
       "      <td>4.4</td>\n",
       "      <td>4.6</td>\n",
       "      <td>6.4</td>\n",
       "    </tr>\n",
       "    <tr>\n",
       "      <th>43820</th>\n",
       "      <td>2019-12-31 20:00:00</td>\n",
       "      <td>3.2</td>\n",
       "      <td>3.4</td>\n",
       "      <td>4.5</td>\n",
       "    </tr>\n",
       "    <tr>\n",
       "      <th>43821</th>\n",
       "      <td>2019-12-31 21:00:00</td>\n",
       "      <td>2.7</td>\n",
       "      <td>2.6</td>\n",
       "      <td>3.0</td>\n",
       "    </tr>\n",
       "    <tr>\n",
       "      <th>43822</th>\n",
       "      <td>2019-12-31 22:00:00</td>\n",
       "      <td>3.1</td>\n",
       "      <td>3.1</td>\n",
       "      <td>2.8</td>\n",
       "    </tr>\n",
       "    <tr>\n",
       "      <th>43823</th>\n",
       "      <td>2019-12-31 23:00:00</td>\n",
       "      <td>3.8</td>\n",
       "      <td>3.6</td>\n",
       "      <td>4.6</td>\n",
       "    </tr>\n",
       "  </tbody>\n",
       "</table>\n",
       "<p>43824 rows × 4 columns</p>\n",
       "</div>"
      ],
      "text/plain": [
       "                    Start  NO2  NOX  PM10\n",
       "0     2015-01-01 00:00:00  4.5  6.2  28.4\n",
       "1     2015-01-01 01:00:00  3.1  3.7   8.5\n",
       "2     2015-01-01 02:00:00  2.1  2.9   8.7\n",
       "3     2015-01-01 03:00:00  1.6  2.2  10.5\n",
       "4     2015-01-01 04:00:00  1.4  2.1  12.1\n",
       "...                   ...  ...  ...   ...\n",
       "43819 2019-12-31 19:00:00  4.4  4.6   6.4\n",
       "43820 2019-12-31 20:00:00  3.2  3.4   4.5\n",
       "43821 2019-12-31 21:00:00  2.7  2.6   3.0\n",
       "43822 2019-12-31 22:00:00  3.1  3.1   2.8\n",
       "43823 2019-12-31 23:00:00  3.8  3.6   4.6\n",
       "\n",
       "[43824 rows x 4 columns]"
      ]
     },
     "execution_count": 163,
     "metadata": {},
     "output_type": "execute_result"
    }
   ],
   "source": [
    "one_feature"
   ]
  },
  {
   "cell_type": "code",
   "execution_count": 164,
   "metadata": {},
   "outputs": [],
   "source": [
    "from sklearn.preprocessing import MinMaxScaler\n",
    "sc = MinMaxScaler(feature_range = (0, 1))\n",
    "scaled_down=one_feature.copy()\n",
    "scaled_down['PM10']=sc.fit_transform(scaled_down['PM10'].values.reshape(-1, 1))\n",
    "scaled_down['NOX']=sc.fit_transform(scaled_down['NOX'].values.reshape(-1, 1))\n",
    "scaled_down['NO2']=sc.fit_transform(scaled_down['NO2'].values.reshape(-1, 1))"
   ]
  },
  {
   "cell_type": "code",
   "execution_count": 165,
   "metadata": {},
   "outputs": [],
   "source": [
    "train=scaled_down[(scaled_down['Start']<= \"2018-12-31 23:00:00\")]\n",
    "test=scaled_down[(scaled_down['Start'] >= \"2019-01-01 00:00:00\")]"
   ]
  },
  {
   "cell_type": "code",
   "execution_count": 166,
   "metadata": {},
   "outputs": [
    {
     "name": "stderr",
     "output_type": "stream",
     "text": [
      "c:\\users\\jad\\appdata\\local\\programs\\python\\python37\\lib\\site-packages\\ipykernel_launcher.py:1: SettingWithCopyWarning: \n",
      "A value is trying to be set on a copy of a slice from a DataFrame.\n",
      "Try using .loc[row_indexer,col_indexer] = value instead\n",
      "\n",
      "See the caveats in the documentation: https://pandas.pydata.org/pandas-docs/stable/user_guide/indexing.html#returning-a-view-versus-a-copy\n",
      "  \"\"\"Entry point for launching an IPython kernel.\n"
     ]
    },
    {
     "data": {
      "text/html": [
       "<div>\n",
       "<style scoped>\n",
       "    .dataframe tbody tr th:only-of-type {\n",
       "        vertical-align: middle;\n",
       "    }\n",
       "\n",
       "    .dataframe tbody tr th {\n",
       "        vertical-align: top;\n",
       "    }\n",
       "\n",
       "    .dataframe thead th {\n",
       "        text-align: right;\n",
       "    }\n",
       "</style>\n",
       "<table border=\"1\" class=\"dataframe\">\n",
       "  <thead>\n",
       "    <tr style=\"text-align: right;\">\n",
       "      <th></th>\n",
       "      <th>NO2</th>\n",
       "      <th>NOX</th>\n",
       "      <th>PM10</th>\n",
       "      <th>predicted_pollution</th>\n",
       "    </tr>\n",
       "  </thead>\n",
       "  <tbody>\n",
       "    <tr>\n",
       "      <th>0</th>\n",
       "      <td>0.039648</td>\n",
       "      <td>0.009583</td>\n",
       "      <td>0.189614</td>\n",
       "      <td>0.069444</td>\n",
       "    </tr>\n",
       "    <tr>\n",
       "      <th>1</th>\n",
       "      <td>0.027313</td>\n",
       "      <td>0.005719</td>\n",
       "      <td>0.069444</td>\n",
       "      <td>0.070652</td>\n",
       "    </tr>\n",
       "    <tr>\n",
       "      <th>2</th>\n",
       "      <td>0.018502</td>\n",
       "      <td>0.004482</td>\n",
       "      <td>0.070652</td>\n",
       "      <td>0.081522</td>\n",
       "    </tr>\n",
       "    <tr>\n",
       "      <th>3</th>\n",
       "      <td>0.014097</td>\n",
       "      <td>0.003400</td>\n",
       "      <td>0.081522</td>\n",
       "      <td>0.091184</td>\n",
       "    </tr>\n",
       "    <tr>\n",
       "      <th>4</th>\n",
       "      <td>0.012335</td>\n",
       "      <td>0.003246</td>\n",
       "      <td>0.091184</td>\n",
       "      <td>0.094807</td>\n",
       "    </tr>\n",
       "  </tbody>\n",
       "</table>\n",
       "</div>"
      ],
      "text/plain": [
       "        NO2       NOX      PM10  predicted_pollution\n",
       "0  0.039648  0.009583  0.189614             0.069444\n",
       "1  0.027313  0.005719  0.069444             0.070652\n",
       "2  0.018502  0.004482  0.070652             0.081522\n",
       "3  0.014097  0.003400  0.081522             0.091184\n",
       "4  0.012335  0.003246  0.091184             0.094807"
      ]
     },
     "execution_count": 166,
     "metadata": {},
     "output_type": "execute_result"
    }
   ],
   "source": [
    "train['predicted_pollution'] = train['PM10'].shift(-1)\n",
    "\n",
    "# Drop the last row (it has no value for predicted pollution)\n",
    "train = train.drop(train.tail(1).index)\n",
    "train=train.drop('Start',axis=1)\n",
    "train.head()"
   ]
  },
  {
   "cell_type": "code",
   "execution_count": 167,
   "metadata": {},
   "outputs": [
    {
     "name": "stderr",
     "output_type": "stream",
     "text": [
      "c:\\users\\jad\\appdata\\local\\programs\\python\\python37\\lib\\site-packages\\ipykernel_launcher.py:1: SettingWithCopyWarning: \n",
      "A value is trying to be set on a copy of a slice from a DataFrame.\n",
      "Try using .loc[row_indexer,col_indexer] = value instead\n",
      "\n",
      "See the caveats in the documentation: https://pandas.pydata.org/pandas-docs/stable/user_guide/indexing.html#returning-a-view-versus-a-copy\n",
      "  \"\"\"Entry point for launching an IPython kernel.\n"
     ]
    },
    {
     "data": {
      "text/html": [
       "<div>\n",
       "<style scoped>\n",
       "    .dataframe tbody tr th:only-of-type {\n",
       "        vertical-align: middle;\n",
       "    }\n",
       "\n",
       "    .dataframe tbody tr th {\n",
       "        vertical-align: top;\n",
       "    }\n",
       "\n",
       "    .dataframe thead th {\n",
       "        text-align: right;\n",
       "    }\n",
       "</style>\n",
       "<table border=\"1\" class=\"dataframe\">\n",
       "  <thead>\n",
       "    <tr style=\"text-align: right;\">\n",
       "      <th></th>\n",
       "      <th>NO2</th>\n",
       "      <th>NOX</th>\n",
       "      <th>PM10</th>\n",
       "      <th>predicted_pollution</th>\n",
       "    </tr>\n",
       "  </thead>\n",
       "  <tbody>\n",
       "    <tr>\n",
       "      <th>35064</th>\n",
       "      <td>0.041410</td>\n",
       "      <td>0.008501</td>\n",
       "      <td>0.243357</td>\n",
       "      <td>0.102053</td>\n",
       "    </tr>\n",
       "    <tr>\n",
       "      <th>35065</th>\n",
       "      <td>0.038767</td>\n",
       "      <td>0.007883</td>\n",
       "      <td>0.102053</td>\n",
       "      <td>0.051329</td>\n",
       "    </tr>\n",
       "    <tr>\n",
       "      <th>35066</th>\n",
       "      <td>0.030837</td>\n",
       "      <td>0.006337</td>\n",
       "      <td>0.051329</td>\n",
       "      <td>0.039855</td>\n",
       "    </tr>\n",
       "    <tr>\n",
       "      <th>35067</th>\n",
       "      <td>0.014097</td>\n",
       "      <td>0.003246</td>\n",
       "      <td>0.039855</td>\n",
       "      <td>0.052536</td>\n",
       "    </tr>\n",
       "    <tr>\n",
       "      <th>35068</th>\n",
       "      <td>0.021145</td>\n",
       "      <td>0.004946</td>\n",
       "      <td>0.052536</td>\n",
       "      <td>0.044082</td>\n",
       "    </tr>\n",
       "  </tbody>\n",
       "</table>\n",
       "</div>"
      ],
      "text/plain": [
       "            NO2       NOX      PM10  predicted_pollution\n",
       "35064  0.041410  0.008501  0.243357             0.102053\n",
       "35065  0.038767  0.007883  0.102053             0.051329\n",
       "35066  0.030837  0.006337  0.051329             0.039855\n",
       "35067  0.014097  0.003246  0.039855             0.052536\n",
       "35068  0.021145  0.004946  0.052536             0.044082"
      ]
     },
     "execution_count": 167,
     "metadata": {},
     "output_type": "execute_result"
    }
   ],
   "source": [
    "test['predicted_pollution'] = test['PM10'].shift(-1)\n",
    "\n",
    "# Drop the last row (it has no value for predicted pollution)\n",
    "test = test.drop(test.tail(1).index)\n",
    "test=test.drop('Start',axis=1)\n",
    "\n",
    "test.head()"
   ]
  },
  {
   "cell_type": "code",
   "execution_count": 168,
   "metadata": {},
   "outputs": [],
   "source": [
    "train_values=train.values\n",
    "test_values=test.values\n",
    "test_X, test_y = test_values[:, :-1], test_values[:, -1]\n",
    "train_X, train_y = train_values[:, :-1], train_values[:, -1]"
   ]
  },
  {
   "cell_type": "code",
   "execution_count": 169,
   "metadata": {},
   "outputs": [],
   "source": [
    "train_X = train_X.reshape((train_X.shape[0], 1, train_X.shape[1]))\n",
    "test_X = test_X.reshape((test_X.shape[0], 1, test_X.shape[1]))"
   ]
  },
  {
   "cell_type": "code",
   "execution_count": 170,
   "metadata": {},
   "outputs": [
    {
     "name": "stdout",
     "output_type": "stream",
     "text": [
      "Epoch 1/50\n",
      "487/487 - 1s - loss: 0.0260 - val_loss: 0.0203\n",
      "Epoch 2/50\n",
      "487/487 - 1s - loss: 0.0166 - val_loss: 0.0169\n",
      "Epoch 3/50\n",
      "487/487 - 1s - loss: 0.0160 - val_loss: 0.0168\n",
      "Epoch 4/50\n",
      "487/487 - 1s - loss: 0.0160 - val_loss: 0.0168\n",
      "Epoch 5/50\n",
      "487/487 - 1s - loss: 0.0160 - val_loss: 0.0168\n",
      "Epoch 6/50\n",
      "487/487 - 1s - loss: 0.0160 - val_loss: 0.0168\n",
      "Epoch 7/50\n",
      "487/487 - 1s - loss: 0.0159 - val_loss: 0.0168\n",
      "Epoch 8/50\n",
      "487/487 - 1s - loss: 0.0159 - val_loss: 0.0168\n",
      "Epoch 9/50\n",
      "487/487 - 1s - loss: 0.0158 - val_loss: 0.0168\n",
      "Epoch 10/50\n",
      "487/487 - 1s - loss: 0.0158 - val_loss: 0.0168\n",
      "Epoch 11/50\n",
      "487/487 - 1s - loss: 0.0158 - val_loss: 0.0168\n",
      "Epoch 12/50\n",
      "487/487 - 1s - loss: 0.0158 - val_loss: 0.0168\n",
      "Epoch 13/50\n",
      "487/487 - 1s - loss: 0.0158 - val_loss: 0.0168\n",
      "Epoch 14/50\n",
      "487/487 - 1s - loss: 0.0158 - val_loss: 0.0168\n",
      "Epoch 15/50\n",
      "487/487 - 1s - loss: 0.0158 - val_loss: 0.0169\n",
      "Epoch 16/50\n",
      "487/487 - 1s - loss: 0.0158 - val_loss: 0.0169\n",
      "Epoch 17/50\n",
      "487/487 - 1s - loss: 0.0158 - val_loss: 0.0169\n",
      "Epoch 18/50\n",
      "487/487 - 1s - loss: 0.0158 - val_loss: 0.0169\n",
      "Epoch 19/50\n",
      "487/487 - 1s - loss: 0.0157 - val_loss: 0.0169\n",
      "Epoch 20/50\n",
      "487/487 - 1s - loss: 0.0157 - val_loss: 0.0169\n",
      "Epoch 21/50\n",
      "487/487 - 1s - loss: 0.0157 - val_loss: 0.0169\n",
      "Epoch 22/50\n",
      "487/487 - 1s - loss: 0.0157 - val_loss: 0.0169\n",
      "Epoch 23/50\n",
      "487/487 - 1s - loss: 0.0157 - val_loss: 0.0169\n",
      "Epoch 24/50\n",
      "487/487 - 1s - loss: 0.0157 - val_loss: 0.0169\n",
      "Epoch 25/50\n",
      "487/487 - 1s - loss: 0.0157 - val_loss: 0.0169\n",
      "Epoch 26/50\n",
      "487/487 - 1s - loss: 0.0157 - val_loss: 0.0169\n",
      "Epoch 27/50\n",
      "487/487 - 1s - loss: 0.0157 - val_loss: 0.0169\n",
      "Epoch 28/50\n",
      "487/487 - 1s - loss: 0.0157 - val_loss: 0.0169\n",
      "Epoch 29/50\n",
      "487/487 - 1s - loss: 0.0157 - val_loss: 0.0169\n",
      "Epoch 30/50\n",
      "487/487 - 1s - loss: 0.0157 - val_loss: 0.0169\n",
      "Epoch 31/50\n",
      "487/487 - 1s - loss: 0.0157 - val_loss: 0.0169\n",
      "Epoch 32/50\n",
      "487/487 - 1s - loss: 0.0157 - val_loss: 0.0169\n",
      "Epoch 33/50\n",
      "487/487 - 1s - loss: 0.0157 - val_loss: 0.0169\n",
      "Epoch 34/50\n",
      "487/487 - 1s - loss: 0.0157 - val_loss: 0.0169\n",
      "Epoch 35/50\n",
      "487/487 - 1s - loss: 0.0157 - val_loss: 0.0169\n",
      "Epoch 36/50\n",
      "487/487 - 1s - loss: 0.0157 - val_loss: 0.0169\n",
      "Epoch 37/50\n",
      "487/487 - 1s - loss: 0.0158 - val_loss: 0.0169\n",
      "Epoch 38/50\n",
      "487/487 - 1s - loss: 0.0157 - val_loss: 0.0169\n",
      "Epoch 39/50\n",
      "487/487 - 1s - loss: 0.0157 - val_loss: 0.0169\n",
      "Epoch 40/50\n",
      "487/487 - 1s - loss: 0.0157 - val_loss: 0.0169\n",
      "Epoch 41/50\n",
      "487/487 - 1s - loss: 0.0157 - val_loss: 0.0169\n",
      "Epoch 42/50\n",
      "487/487 - 1s - loss: 0.0157 - val_loss: 0.0169\n",
      "Epoch 43/50\n",
      "487/487 - 1s - loss: 0.0157 - val_loss: 0.0169\n",
      "Epoch 44/50\n",
      "487/487 - 1s - loss: 0.0157 - val_loss: 0.0169\n",
      "Epoch 45/50\n",
      "487/487 - 1s - loss: 0.0158 - val_loss: 0.0169\n",
      "Epoch 46/50\n",
      "487/487 - 1s - loss: 0.0158 - val_loss: 0.0169\n",
      "Epoch 47/50\n",
      "487/487 - 1s - loss: 0.0158 - val_loss: 0.0169\n",
      "Epoch 48/50\n",
      "487/487 - 1s - loss: 0.0158 - val_loss: 0.0170\n",
      "Epoch 49/50\n",
      "487/487 - 1s - loss: 0.0158 - val_loss: 0.0170\n",
      "Epoch 50/50\n",
      "487/487 - 1s - loss: 0.0158 - val_loss: 0.0170\n"
     ]
    }
   ],
   "source": [
    "from keras.models import Sequential\n",
    "from keras.layers import LSTM, Dense\n",
    "model = Sequential()\n",
    "model.add(LSTM(50, input_shape=(train_X.shape[1], train_X.shape[2])))\n",
    "model.add(Dense(1))\n",
    "model.compile(loss='mae', optimizer='adam')\n",
    "\n",
    "history = model.fit(train_X, train_y, epochs=50,\n",
    "                    batch_size=72, validation_data=(test_X, test_y),\n",
    "                    verbose=2, shuffle=False)"
   ]
  },
  {
   "cell_type": "code",
   "execution_count": 171,
   "metadata": {},
   "outputs": [
    {
     "data": {
      "text/plain": [
       "[<matplotlib.lines.Line2D at 0x27b5f3864c8>]"
      ]
     },
     "execution_count": 171,
     "metadata": {},
     "output_type": "execute_result"
    },
    {
     "data": {
      "image/png": "[encoded data removed]",
      "text/plain": [
       "<Figure size 432x288 with 1 Axes>"
      ]
     },
     "metadata": {
      "needs_background": "light"
     },
     "output_type": "display_data"
    }
   ],
   "source": [
    "# plot history\n",
    "plt.plot(history.history['loss'], label='train')\n",
    "plt.plot(history.history['val_loss'], label='test')#orange is validation loss"
   ]
  },
  {
   "cell_type": "code",
   "execution_count": 172,
   "metadata": {
    "scrolled": true
   },
   "outputs": [
    {
     "data": {
      "text/plain": [
       "'3.232'"
      ]
     },
     "execution_count": 172,
     "metadata": {},
     "output_type": "execute_result"
    }
   ],
   "source": [
    "# For Data Preprocessing\n",
    "from sklearn.preprocessing import LabelEncoder, MinMaxScaler\n",
    "yhat = model.predict(test_X)\n",
    "\n",
    "\n",
    "inv_yhat = sc.inverse_transform(yhat)\n",
    "\n",
    "\n",
    "\n",
    "inv_y = sc.inverse_transform(test_y.reshape(-1, 1))\n",
    "\n",
    "\n",
    "# Calculate RMSE\n",
    "rmse = math.sqrt(mean_squared_error(inv_y, inv_yhat))\n",
    "'{:.3f}'.format(rmse)"
   ]
  },
  {
   "cell_type": "code",
   "execution_count": 173,
   "metadata": {},
   "outputs": [
    {
     "data": {
      "image/png": "[encoded data removed]",
      "text/plain": [
       "<Figure size 1080x1080 with 1 Axes>"
      ]
     },
     "metadata": {
      "needs_background": "light"
     },
     "output_type": "display_data"
    }
   ],
   "source": [
    "\n",
    "fig = plt.figure(figsize=(15,15))\n",
    "plt.plot(inv_y, color = 'black', label = 'PM10')\n",
    "plt.plot(inv_yhat, color = 'green', label = 'Predicted PM10')\n",
    "plt.title('PM10 Predictions')\n",
    "plt.xlabel('Time')\n",
    "plt.ylabel('PM10')\n",
    "plt.legend()\n",
    "plt.show()\n"
   ]
  },
  {
   "cell_type": "code",
   "execution_count": null,
   "metadata": {},
   "outputs": [],
   "source": []
  }
 ],
 "metadata": {
  "kernelspec": {
   "display_name": "Python 3",
   "language": "python",
   "name": "python3"
  },
  "language_info": {
   "codemirror_mode": {
    "name": "ipython",
    "version": 3
   },
   "file_extension": ".py",
   "mimetype": "text/x-python",
   "name": "python",
   "nbconvert_exporter": "python",
   "pygments_lexer": "ipython3",
   "version": "3.7.8"
  }
 },
 "nbformat": 4,
 "nbformat_minor": 4
}
